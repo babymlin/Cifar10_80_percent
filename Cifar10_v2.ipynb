{
  "nbformat": 4,
  "nbformat_minor": 0,
  "metadata": {
    "colab": {
      "name": "Cifar10_v2.ipynb",
      "provenance": [],
      "mount_file_id": "1eqZQe17RwOVY-gtFFNlq9xqOUIUS4UoV",
      "authorship_tag": "ABX9TyOP+VHTt0qZ+8msl5pt3D1I",
      "include_colab_link": true
    },
    "kernelspec": {
      "name": "python3",
      "display_name": "Python 3"
    },
    "language_info": {
      "name": "python"
    },
    "accelerator": "GPU"
  },
  "cells": [
    {
      "cell_type": "markdown",
      "metadata": {
        "id": "view-in-github",
        "colab_type": "text"
      },
      "source": [
        "<a href=\"https://colab.research.google.com/github/babymlin/Cifar10_80_percent/blob/main/Cifar10_v2.ipynb\" target=\"_parent\"><img src=\"https://colab.research.google.com/assets/colab-badge.svg\" alt=\"Open In Colab\"/></a>"
      ]
    },
    {
      "cell_type": "code",
      "metadata": {
        "colab": {
          "base_uri": "https://localhost:8080/"
        },
        "id": "ua34kr1M_zmo",
        "outputId": "d2f0f883-d7f0-49e8-9e9e-83a3e7ba9e7c"
      },
      "source": [
        "!pip install tensorflow-addons\n",
        "import tensorflow as tf\n",
        "import tensorflow_addons as tfa\n",
        "import matplotlib.pyplot as plt"
      ],
      "execution_count": 1,
      "outputs": [
        {
          "output_type": "stream",
          "text": [
            "Collecting tensorflow-addons\n",
            "\u001b[?25l  Downloading https://files.pythonhosted.org/packages/66/4b/e893d194e626c24b3df2253066aa418f46a432fdb68250cde14bf9bb0700/tensorflow_addons-0.13.0-cp37-cp37m-manylinux2010_x86_64.whl (679kB)\n",
            "\r\u001b[K     |▌                               | 10kB 20.2MB/s eta 0:00:01\r\u001b[K     |█                               | 20kB 21.0MB/s eta 0:00:01\r\u001b[K     |█▌                              | 30kB 16.3MB/s eta 0:00:01\r\u001b[K     |██                              | 40kB 14.1MB/s eta 0:00:01\r\u001b[K     |██▍                             | 51kB 7.9MB/s eta 0:00:01\r\u001b[K     |███                             | 61kB 7.6MB/s eta 0:00:01\r\u001b[K     |███▍                            | 71kB 8.6MB/s eta 0:00:01\r\u001b[K     |███▉                            | 81kB 9.0MB/s eta 0:00:01\r\u001b[K     |████▍                           | 92kB 9.2MB/s eta 0:00:01\r\u001b[K     |████▉                           | 102kB 7.6MB/s eta 0:00:01\r\u001b[K     |█████▎                          | 112kB 7.6MB/s eta 0:00:01\r\u001b[K     |█████▉                          | 122kB 7.6MB/s eta 0:00:01\r\u001b[K     |██████▎                         | 133kB 7.6MB/s eta 0:00:01\r\u001b[K     |██████▊                         | 143kB 7.6MB/s eta 0:00:01\r\u001b[K     |███████▎                        | 153kB 7.6MB/s eta 0:00:01\r\u001b[K     |███████▊                        | 163kB 7.6MB/s eta 0:00:01\r\u001b[K     |████████▏                       | 174kB 7.6MB/s eta 0:00:01\r\u001b[K     |████████▊                       | 184kB 7.6MB/s eta 0:00:01\r\u001b[K     |█████████▏                      | 194kB 7.6MB/s eta 0:00:01\r\u001b[K     |█████████▋                      | 204kB 7.6MB/s eta 0:00:01\r\u001b[K     |██████████▏                     | 215kB 7.6MB/s eta 0:00:01\r\u001b[K     |██████████▋                     | 225kB 7.6MB/s eta 0:00:01\r\u001b[K     |███████████                     | 235kB 7.6MB/s eta 0:00:01\r\u001b[K     |███████████▋                    | 245kB 7.6MB/s eta 0:00:01\r\u001b[K     |████████████                    | 256kB 7.6MB/s eta 0:00:01\r\u001b[K     |████████████▌                   | 266kB 7.6MB/s eta 0:00:01\r\u001b[K     |█████████████                   | 276kB 7.6MB/s eta 0:00:01\r\u001b[K     |█████████████▌                  | 286kB 7.6MB/s eta 0:00:01\r\u001b[K     |██████████████                  | 296kB 7.6MB/s eta 0:00:01\r\u001b[K     |██████████████▌                 | 307kB 7.6MB/s eta 0:00:01\r\u001b[K     |███████████████                 | 317kB 7.6MB/s eta 0:00:01\r\u001b[K     |███████████████▍                | 327kB 7.6MB/s eta 0:00:01\r\u001b[K     |████████████████                | 337kB 7.6MB/s eta 0:00:01\r\u001b[K     |████████████████▍               | 348kB 7.6MB/s eta 0:00:01\r\u001b[K     |████████████████▉               | 358kB 7.6MB/s eta 0:00:01\r\u001b[K     |█████████████████▍              | 368kB 7.6MB/s eta 0:00:01\r\u001b[K     |█████████████████▉              | 378kB 7.6MB/s eta 0:00:01\r\u001b[K     |██████████████████▎             | 389kB 7.6MB/s eta 0:00:01\r\u001b[K     |██████████████████▉             | 399kB 7.6MB/s eta 0:00:01\r\u001b[K     |███████████████████▎            | 409kB 7.6MB/s eta 0:00:01\r\u001b[K     |███████████████████▊            | 419kB 7.6MB/s eta 0:00:01\r\u001b[K     |████████████████████▎           | 430kB 7.6MB/s eta 0:00:01\r\u001b[K     |████████████████████▊           | 440kB 7.6MB/s eta 0:00:01\r\u001b[K     |█████████████████████▏          | 450kB 7.6MB/s eta 0:00:01\r\u001b[K     |█████████████████████▊          | 460kB 7.6MB/s eta 0:00:01\r\u001b[K     |██████████████████████▏         | 471kB 7.6MB/s eta 0:00:01\r\u001b[K     |██████████████████████▋         | 481kB 7.6MB/s eta 0:00:01\r\u001b[K     |███████████████████████▏        | 491kB 7.6MB/s eta 0:00:01\r\u001b[K     |███████████████████████▋        | 501kB 7.6MB/s eta 0:00:01\r\u001b[K     |████████████████████████        | 512kB 7.6MB/s eta 0:00:01\r\u001b[K     |████████████████████████▋       | 522kB 7.6MB/s eta 0:00:01\r\u001b[K     |█████████████████████████       | 532kB 7.6MB/s eta 0:00:01\r\u001b[K     |█████████████████████████▌      | 542kB 7.6MB/s eta 0:00:01\r\u001b[K     |██████████████████████████      | 552kB 7.6MB/s eta 0:00:01\r\u001b[K     |██████████████████████████▌     | 563kB 7.6MB/s eta 0:00:01\r\u001b[K     |███████████████████████████     | 573kB 7.6MB/s eta 0:00:01\r\u001b[K     |███████████████████████████▌    | 583kB 7.6MB/s eta 0:00:01\r\u001b[K     |████████████████████████████    | 593kB 7.6MB/s eta 0:00:01\r\u001b[K     |████████████████████████████▍   | 604kB 7.6MB/s eta 0:00:01\r\u001b[K     |█████████████████████████████   | 614kB 7.6MB/s eta 0:00:01\r\u001b[K     |█████████████████████████████▍  | 624kB 7.6MB/s eta 0:00:01\r\u001b[K     |█████████████████████████████▉  | 634kB 7.6MB/s eta 0:00:01\r\u001b[K     |██████████████████████████████▍ | 645kB 7.6MB/s eta 0:00:01\r\u001b[K     |██████████████████████████████▉ | 655kB 7.6MB/s eta 0:00:01\r\u001b[K     |███████████████████████████████▎| 665kB 7.6MB/s eta 0:00:01\r\u001b[K     |███████████████████████████████▉| 675kB 7.6MB/s eta 0:00:01\r\u001b[K     |████████████████████████████████| 686kB 7.6MB/s \n",
            "\u001b[?25hRequirement already satisfied: typeguard>=2.7 in /usr/local/lib/python3.7/dist-packages (from tensorflow-addons) (2.7.1)\n",
            "Installing collected packages: tensorflow-addons\n",
            "Successfully installed tensorflow-addons-0.13.0\n"
          ],
          "name": "stdout"
        }
      ]
    },
    {
      "cell_type": "code",
      "metadata": {
        "colab": {
          "base_uri": "https://localhost:8080/"
        },
        "id": "xsNn-4ruBIcB",
        "outputId": "184d717b-e8e3-40f9-a600-7a282de275a0"
      },
      "source": [
        "from tensorflow.keras.datasets.cifar10 import load_data\n",
        "(X_train, y_train), (X_test, y_test) = load_data()"
      ],
      "execution_count": 2,
      "outputs": [
        {
          "output_type": "stream",
          "text": [
            "Downloading data from https://www.cs.toronto.edu/~kriz/cifar-10-python.tar.gz\n",
            "170500096/170498071 [==============================] - 4s 0us/step\n"
          ],
          "name": "stdout"
        }
      ]
    },
    {
      "cell_type": "code",
      "metadata": {
        "colab": {
          "base_uri": "https://localhost:8080/"
        },
        "id": "fsuEmlnZC8do",
        "outputId": "0ca8e14b-443b-44c1-858a-8c50b0cbe660"
      },
      "source": [
        "print(X_train.shape)\n",
        "print(y_train.shape)\n",
        "print(X_test.shape)\n",
        "print(y_test.shape)"
      ],
      "execution_count": 27,
      "outputs": [
        {
          "output_type": "stream",
          "text": [
            "(50000, 32, 32, 3)\n",
            "(50000, 1)\n",
            "(10000, 32, 32, 3)\n",
            "(10000, 1)\n"
          ],
          "name": "stdout"
        }
      ]
    },
    {
      "cell_type": "code",
      "metadata": {
        "id": "BVUjoFWRpzn7"
      },
      "source": [
        "X_train_norm = X_train / 255.0\n",
        "X_test_norm = X_test / 255.0"
      ],
      "execution_count": 28,
      "outputs": []
    },
    {
      "cell_type": "code",
      "metadata": {
        "id": "af8rqAswCMDy"
      },
      "source": [
        "class_names = [\n",
        "  \"airplane\",\t\t\t\t\t\t\t\t\t\t\n",
        "  \"automobile\",\t\t\t\t\t\t\t\t\t\t\n",
        "  \"bird\",\t\t\t\t\t\t\t\t\t\t\n",
        "  \"cat\",\t\t\t\t\t\t\t\t\t\t\n",
        "  \"deer\",\t\t\t\t\t\t\t\t\t\t\n",
        "  \"dog\",\t\t\t\t\t\t\t\t\t\t\n",
        "  \"frog\",\t\t\t\t\t\t\t\t\t\t\n",
        "  \"horse\",\t\t\t\t\t\t\t\t\t\t\n",
        "  \"ship\",\t\t\t\t\t\t\t\t\t\t\n",
        "  \"truck\"\n",
        "]"
      ],
      "execution_count": 35,
      "outputs": []
    },
    {
      "cell_type": "code",
      "metadata": {
        "colab": {
          "base_uri": "https://localhost:8080/"
        },
        "id": "RtATBY8ocMvd",
        "outputId": "4bce363f-1f3e-47a0-bdfc-93782ddd80d9"
      },
      "source": [
        "input_shape = (X_train.shape[1], X_train.shape[2], X_train.shape[3])\n",
        "from tensorflow.keras.models import Sequential\n",
        "from tensorflow.keras.layers import Conv2D, Dense, Softmax, MaxPooling2D, Flatten, BatchNormalization, ReLU, GlobalAveragePooling2D, Dropout\n",
        "layers1 = [\n",
        "  Conv2D(filters=64, kernel_size=3, strides=1, padding=\"same\", activation=\"relu\", input_shape=input_shape),\n",
        "  MaxPooling2D(),\n",
        "  Conv2D(filters=128, kernel_size=3, strides=1, padding=\"same\", activation=\"relu\"),\n",
        "  MaxPooling2D(),\n",
        "  Conv2D(filters=256, kernel_size=3, strides=1, padding=\"same\", activation=\"relu\"),\n",
        "  MaxPooling2D(),\n",
        "  GlobalAveragePooling2D(),\n",
        "  Dense(units=128, activation=\"relu\"),\n",
        "  Dropout(0.25),\n",
        "  Dense(units=10),\n",
        "  Softmax()\n",
        "] \n",
        "layers = [\n",
        "  Conv2D(filters=64, kernel_size=3, strides=1, padding=\"same\", input_shape=input_shape),\n",
        "  BatchNormalization(),\n",
        "  ReLU(),\n",
        "  Conv2D(filters=64, kernel_size=3, strides=2, padding=\"same\"),\n",
        "  BatchNormalization(),\n",
        "  ReLU(),\n",
        "  Conv2D(filters=128, kernel_size=3, strides=1, padding=\"same\", activation=\"relu\"),\n",
        "  BatchNormalization(),\n",
        "  ReLU(),\n",
        "  Conv2D(filters=128, kernel_size=3, strides=2, padding=\"same\"),\n",
        "  BatchNormalization(),\n",
        "  ReLU(),\n",
        "  Conv2D(filters=256, kernel_size=3, strides=1, padding=\"same\"),\n",
        "  BatchNormalization(),\n",
        "  ReLU(),\n",
        "  Conv2D(filters=256, kernel_size=3, strides=2, padding=\"same\"),\n",
        "  BatchNormalization(),\n",
        "  ReLU(),\n",
        "  GlobalAveragePooling2D(),\n",
        "  Dense(units=128, activation=\"relu\"),\n",
        "  Dropout(0.25),\n",
        "  Dense(units=10),\n",
        "  Softmax()\n",
        "] \n",
        "model = Sequential(layers1)\n",
        "model.summary()"
      ],
      "execution_count": 36,
      "outputs": [
        {
          "output_type": "stream",
          "text": [
            "Model: \"sequential_3\"\n",
            "_________________________________________________________________\n",
            "Layer (type)                 Output Shape              Param #   \n",
            "=================================================================\n",
            "conv2d_27 (Conv2D)           (None, 32, 32, 64)        1792      \n",
            "_________________________________________________________________\n",
            "max_pooling2d_9 (MaxPooling2 (None, 16, 16, 64)        0         \n",
            "_________________________________________________________________\n",
            "conv2d_28 (Conv2D)           (None, 16, 16, 128)       73856     \n",
            "_________________________________________________________________\n",
            "max_pooling2d_10 (MaxPooling (None, 8, 8, 128)         0         \n",
            "_________________________________________________________________\n",
            "conv2d_29 (Conv2D)           (None, 8, 8, 256)         295168    \n",
            "_________________________________________________________________\n",
            "max_pooling2d_11 (MaxPooling (None, 4, 4, 256)         0         \n",
            "_________________________________________________________________\n",
            "global_average_pooling2d_3 ( (None, 256)               0         \n",
            "_________________________________________________________________\n",
            "dense_10 (Dense)             (None, 128)               32896     \n",
            "_________________________________________________________________\n",
            "dropout_3 (Dropout)          (None, 128)               0         \n",
            "_________________________________________________________________\n",
            "dense_11 (Dense)             (None, 10)                1290      \n",
            "_________________________________________________________________\n",
            "softmax_6 (Softmax)          (None, 10)                0         \n",
            "=================================================================\n",
            "Total params: 405,002\n",
            "Trainable params: 405,002\n",
            "Non-trainable params: 0\n",
            "_________________________________________________________________\n"
          ],
          "name": "stdout"
        }
      ]
    },
    {
      "cell_type": "code",
      "metadata": {
        "id": "9g720mdfgw5-"
      },
      "source": [
        "from tensorflow.keras.callbacks import EarlyStopping, ModelCheckpoint, CSVLogger\n",
        "callbacks = [\n",
        "  EarlyStopping(monitor=\"val_loss\",\n",
        "        restore_best_weights=True,\n",
        "        patience=5,\n",
        "        ),\n",
        "  ModelCheckpoint(\"Cifar10v2-BestModel.h5\", monitor=\"val_accuracy\", save_best_only=True),\n",
        "  CSVLogger(\"Cifar10v2.csv\")\n",
        "]"
      ],
      "execution_count": 37,
      "outputs": []
    },
    {
      "cell_type": "code",
      "metadata": {
        "id": "DYtdkCcoi7cU"
      },
      "source": [
        "radam = tfa.optimizers.RectifiedAdam()\n",
        "ranger = tfa.optimizers.Lookahead(radam)\n",
        "model.compile(optimizer=ranger, loss=\"SparseCategoricalCrossentropy\", metrics=[\"accuracy\"])"
      ],
      "execution_count": 38,
      "outputs": []
    },
    {
      "cell_type": "code",
      "metadata": {
        "colab": {
          "base_uri": "https://localhost:8080/"
        },
        "id": "6l7NcG4RjxEE",
        "outputId": "6b0935d4-0cd3-4001-a31d-8783c65e6970"
      },
      "source": [
        "batch_size = 64\n",
        "epochs = 100\n",
        "model.fit(X_train_norm,\n",
        "    y_train,\n",
        "    batch_size=batch_size, \n",
        "    epochs=epochs, \n",
        "    validation_split=0.1, \n",
        "    callbacks=callbacks,\n",
        "    verbose=2\n",
        ")"
      ],
      "execution_count": 39,
      "outputs": [
        {
          "output_type": "stream",
          "text": [
            "Epoch 1/100\n",
            "704/704 - 7s - loss: 1.9568 - accuracy: 0.2590 - val_loss: 1.9064 - val_accuracy: 0.2898\n",
            "Epoch 2/100\n",
            "704/704 - 5s - loss: 1.6478 - accuracy: 0.3893 - val_loss: 1.5200 - val_accuracy: 0.4378\n",
            "Epoch 3/100\n",
            "704/704 - 5s - loss: 1.4803 - accuracy: 0.4559 - val_loss: 1.3500 - val_accuracy: 0.5092\n",
            "Epoch 4/100\n",
            "704/704 - 5s - loss: 1.3567 - accuracy: 0.5059 - val_loss: 1.3378 - val_accuracy: 0.5144\n",
            "Epoch 5/100\n",
            "704/704 - 5s - loss: 1.2590 - accuracy: 0.5484 - val_loss: 1.2394 - val_accuracy: 0.5384\n",
            "Epoch 6/100\n",
            "704/704 - 5s - loss: 1.1779 - accuracy: 0.5764 - val_loss: 1.0606 - val_accuracy: 0.6336\n",
            "Epoch 7/100\n",
            "704/704 - 5s - loss: 1.1078 - accuracy: 0.6058 - val_loss: 1.0859 - val_accuracy: 0.6142\n",
            "Epoch 8/100\n",
            "704/704 - 5s - loss: 1.0488 - accuracy: 0.6270 - val_loss: 1.0053 - val_accuracy: 0.6446\n",
            "Epoch 9/100\n",
            "704/704 - 5s - loss: 0.9954 - accuracy: 0.6472 - val_loss: 0.9219 - val_accuracy: 0.6778\n",
            "Epoch 10/100\n",
            "704/704 - 5s - loss: 0.9427 - accuracy: 0.6663 - val_loss: 0.8970 - val_accuracy: 0.6850\n",
            "Epoch 11/100\n",
            "704/704 - 5s - loss: 0.8929 - accuracy: 0.6842 - val_loss: 0.8991 - val_accuracy: 0.6874\n",
            "Epoch 12/100\n",
            "704/704 - 5s - loss: 0.8512 - accuracy: 0.6995 - val_loss: 0.7926 - val_accuracy: 0.7236\n",
            "Epoch 13/100\n",
            "704/704 - 5s - loss: 0.8051 - accuracy: 0.7165 - val_loss: 0.8664 - val_accuracy: 0.6964\n",
            "Epoch 14/100\n",
            "704/704 - 5s - loss: 0.7691 - accuracy: 0.7293 - val_loss: 0.8486 - val_accuracy: 0.7018\n",
            "Epoch 15/100\n",
            "704/704 - 5s - loss: 0.7337 - accuracy: 0.7406 - val_loss: 0.7154 - val_accuracy: 0.7550\n",
            "Epoch 16/100\n",
            "704/704 - 5s - loss: 0.6917 - accuracy: 0.7570 - val_loss: 0.7907 - val_accuracy: 0.7304\n",
            "Epoch 17/100\n",
            "704/704 - 5s - loss: 0.6573 - accuracy: 0.7700 - val_loss: 0.7083 - val_accuracy: 0.7584\n",
            "Epoch 18/100\n",
            "704/704 - 5s - loss: 0.6296 - accuracy: 0.7801 - val_loss: 0.6862 - val_accuracy: 0.7640\n",
            "Epoch 19/100\n",
            "704/704 - 5s - loss: 0.5948 - accuracy: 0.7901 - val_loss: 0.7019 - val_accuracy: 0.7622\n",
            "Epoch 20/100\n",
            "704/704 - 5s - loss: 0.5616 - accuracy: 0.8025 - val_loss: 0.7708 - val_accuracy: 0.7372\n",
            "Epoch 21/100\n",
            "704/704 - 5s - loss: 0.5391 - accuracy: 0.8125 - val_loss: 0.6404 - val_accuracy: 0.7808\n",
            "Epoch 22/100\n",
            "704/704 - 5s - loss: 0.4994 - accuracy: 0.8250 - val_loss: 0.7280 - val_accuracy: 0.7518\n",
            "Epoch 23/100\n",
            "704/704 - 5s - loss: 0.4686 - accuracy: 0.8344 - val_loss: 0.7303 - val_accuracy: 0.7512\n",
            "Epoch 24/100\n",
            "704/704 - 5s - loss: 0.4440 - accuracy: 0.8449 - val_loss: 0.6317 - val_accuracy: 0.7938\n",
            "Epoch 25/100\n",
            "704/704 - 5s - loss: 0.4180 - accuracy: 0.8529 - val_loss: 0.6775 - val_accuracy: 0.7740\n",
            "Epoch 26/100\n",
            "704/704 - 5s - loss: 0.3843 - accuracy: 0.8657 - val_loss: 0.6689 - val_accuracy: 0.7776\n",
            "Epoch 27/100\n",
            "704/704 - 5s - loss: 0.3593 - accuracy: 0.8724 - val_loss: 0.6666 - val_accuracy: 0.7934\n",
            "Epoch 28/100\n",
            "704/704 - 5s - loss: 0.3420 - accuracy: 0.8800 - val_loss: 0.6983 - val_accuracy: 0.7760\n",
            "Epoch 29/100\n",
            "704/704 - 5s - loss: 0.3075 - accuracy: 0.8907 - val_loss: 0.6875 - val_accuracy: 0.7786\n"
          ],
          "name": "stdout"
        },
        {
          "output_type": "execute_result",
          "data": {
            "text/plain": [
              "<tensorflow.python.keras.callbacks.History at 0x7f3c98585e50>"
            ]
          },
          "metadata": {
            "tags": []
          },
          "execution_count": 39
        }
      ]
    },
    {
      "cell_type": "code",
      "metadata": {
        "colab": {
          "base_uri": "https://localhost:8080/"
        },
        "id": "VIf-OkHqrTpc",
        "outputId": "a6e9b94a-4588-4d46-f96d-d8ab90d2ca3b"
      },
      "source": [
        "model.evaluate(X_test_norm, y_test)"
      ],
      "execution_count": 40,
      "outputs": [
        {
          "output_type": "stream",
          "text": [
            "313/313 [==============================] - 1s 3ms/step - loss: 0.6508 - accuracy: 0.7805\n"
          ],
          "name": "stdout"
        },
        {
          "output_type": "execute_result",
          "data": {
            "text/plain": [
              "[0.6508117914199829, 0.7804999947547913]"
            ]
          },
          "metadata": {
            "tags": []
          },
          "execution_count": 40
        }
      ]
    }
  ]
}